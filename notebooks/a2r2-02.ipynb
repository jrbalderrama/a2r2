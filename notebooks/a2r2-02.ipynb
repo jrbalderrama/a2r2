{
 "cells": [
  {
   "cell_type": "markdown",
   "metadata": {
    "colab_type": "text",
    "id": "view-in-github"
   },
   "source": [
    "<a href=\"https://colab.research.google.com/github/jrbalderrama/a2r2/blob/main/notebooks/a2r2-02.ipynb\" target=\"_parent\"><img src=\"https://colab.research.google.com/assets/colab-badge.svg\" alt=\"Open In Colab\"/></a>"
   ]
  },
  {
   "cell_type": "markdown",
   "metadata": {
    "id": "5qOVUmdqyTjY"
   },
   "source": [
    "# RUDI Workshop: Introduction to Privacy-Preserving Data Publishing Techniques\n",
    "\n",
    "Tristan ALLARD & Javier ROJAS BALDERRAMA\n",
    "\n",
    "_Univ Rennes, CNRS, INRIA_\n",
    "  \n",
    "This work is licensed under a [Creative Commons Zero v1.0 Universal License](https://creativecommons.org/publicdomain/zero/1.0/)"
   ]
  },
  {
   "cell_type": "markdown",
   "metadata": {},
   "source": [
    "## Acknowledgments\n",
    "\n",
    "We warmly thank François Bodin and Luc Lesoil for their support on the data and the definition of the use-case."
   ]
  },
  {
   "cell_type": "markdown",
   "metadata": {},
   "source": [
    "# Notebook __TWO__: The case for privacy"
   ]
  },
  {
   "cell_type": "markdown",
   "metadata": {
    "id": "OD991wF88Rio"
   },
   "source": [
    "## Step 0 (STARTER)\n",
    "\n",
    "Yes, raw data is not immune to re-identification! \n",
    "\n",
    "You are now going to perform a reidentification attack on a small set of targets. To this end, we will give you some auxiliary information (also called background knowledge) and programming tools for helping you query the dataset.\n",
    "1. You can display the buses validations dataset [here](#displayvalid). Feel free to to play with the filter menu, although the number of shown rows is limited. \n",
    "2. You can attack the dataset [Step 1](#attack) (do not be afraid to try!). \n",
    "3. In order to understand better your attacks and/or design other attacks, you can display informative measures about the _identifying power_ of the attributes of the dataset ([Step 2](#explain)). "
   ]
  },
  {
   "cell_type": "markdown",
   "metadata": {},
   "source": [
    "## Settings and data"
   ]
  },
  {
   "cell_type": "markdown",
   "metadata": {
    "id": "qzLkzFP3fZm-"
   },
   "source": [
    "\n",
    " ### Download dataset\n"
   ]
  },
  {
   "cell_type": "code",
   "execution_count": null,
   "metadata": {
    "id": "u_Eju0G4yTjY",
    "scrolled": false
   },
   "outputs": [],
   "source": [
    "!wget -nv -nc https://zenodo.org/record/5509268/files/buses.parquet"
   ]
  },
  {
   "cell_type": "markdown",
   "metadata": {
    "id": "O4teYxHrfnuh"
   },
   "source": [
    "### Import required modules"
   ]
  },
  {
   "cell_type": "code",
   "execution_count": null,
   "metadata": {
    "id": "PLHjpQH6yTjY"
   },
   "outputs": [],
   "source": [
    "from pathlib import Path\n",
    "\n",
    "from atelier import io, metrics, plot\n",
    "from atelier.extensions.star import data\n",
    "from atelier.plot import timeline\n",
    "from IPython.display import display"
   ]
  },
  {
   "cell_type": "markdown",
   "metadata": {},
   "source": [
    "### Setup notebook constants and running environment"
   ]
  },
  {
   "cell_type": "code",
   "execution_count": null,
   "metadata": {},
   "outputs": [],
   "source": [
    "from atelier.utils import colaboratory\n",
    "\n",
    "# detect running environment\n",
    "COLAB_ON = colaboratory.setup()\n",
    "\n",
    "# `colab` supports only 20K rows to show filters so do not forget:\n",
    "# display(dataframe[:20000])"
   ]
  },
  {
   "cell_type": "markdown",
   "metadata": {
    "id": "s4gBkGhqpaL7"
   },
   "source": [
    "### Load and display raw dataset"
   ]
  },
  {
   "cell_type": "markdown",
   "metadata": {},
   "source": [
    "#### Show raw dataset\n",
    "\n",
    "<a id=\"displayvalid\"></a>"
   ]
  },
  {
   "cell_type": "code",
   "execution_count": null,
   "metadata": {
    "scrolled": true
   },
   "outputs": [],
   "source": [
    "path = Path(\"buses.parquet\")\n",
    "buses_dataset = io.read_data(path)\n",
    "display(buses_dataset)\n",
    "\n",
    "####################\n",
    "# BEGIN : Observe"
   ]
  },
  {
   "cell_type": "code",
   "execution_count": null,
   "metadata": {
    "id": "KwNpJzamyTk8"
   },
   "outputs": [],
   "source": [
    "# Showing the heat map of validations only works on a local server\n",
    "if not COLAB_ON:\n",
    "    plot.heatmap_plot(buses_dataset)"
   ]
  },
  {
   "cell_type": "code",
   "execution_count": null,
   "metadata": {},
   "outputs": [],
   "source": [
    "# END : Observe\n",
    "####################"
   ]
  },
  {
   "cell_type": "markdown",
   "metadata": {
    "id": "65WnAyybppNH"
   },
   "source": [
    "## Step 1: Attack raw buses validations\n",
    "<a id=\"attack\"></a>\n",
    "\n",
    "Re-identification attacks are simple conceptually. They consist in selecting the subset of individuals whose records match the auxiliary information that the attacker has about them. If a single individual matches the adversarial knowledge, the success of the attack is clear (assuming that the adversarial knowledge is reliable). Otherwise the success is less clear. But when more than a single individual match the adversarial knowledge, is it really a failure? \n",
    "\n",
    "Lets have a look at an [example](#attackexample)."
   ]
  },
  {
   "cell_type": "markdown",
   "metadata": {},
   "source": [
    "### Example of a re-identification attack\n",
    "<a id='attackexample'></a>\n",
    "\n",
    "Somebody said:\n",
    "\n",
    "> \"*I often take the bus in the morning to go to Beaulieu from the 'Anne de Bretagne' in Cesson* \"\n",
    "\n",
    "Is this information enough to discover the mobility patterns of that person?\n",
    "\n",
    "A short summary of implemented methods used to perform the attack, refer to the example below for the use (or if you feel confortable use the **Pandas** API directly):\n",
    "\n",
    "- `query`:  perform a query on the dataset by attribute name and value\n",
    "- `between`:  filter dataset between two timestamps\n",
    "- `intersect`: intersect two datasets with a common attribute (the 'on' attribute)\n",
    "- `distinct`: get distinct rows from a dataset grouping by a 'subset'\n",
    "\n",
    "Have a look at the code below that implements this attack. You can also [go straight to your targets](#attacktargets)."
   ]
  },
  {
   "cell_type": "code",
   "execution_count": null,
   "metadata": {},
   "outputs": [],
   "source": [
    "####################\n",
    "# BEGIN : Observe\n",
    "\n",
    "# remove geo-spatial information from the dataset\n",
    "dataset = data.tidy_dataframe(buses_dataset)\n",
    "\n",
    "# show the dataset\n",
    "print(\"Initial dataset\")\n",
    "display(dataset)\n",
    "\n",
    "# query: \"I take the bus from the bus stop 'Anne de Bretagne'\"\n",
    "q_1 = data.query(dataset, \"stop_name\", \"Anne de Bretagne\")\n",
    "\n",
    "# query: \"I take the bus going to Beaulieu (city center)\"\n",
    "q_2 = data.query(dataset, \"direction_id\", 0)\n",
    "\n",
    "# intersect results of 'q_1' and 'q_2'\n",
    "q_3 = data.intersect(q_1, q_2, on=[\"id\"])\n",
    "\n",
    "# show results of intesection done on 'q_3'\n",
    "print(\"Result of the intersection of queries 1 & 2\")\n",
    "display(q_3)\n",
    "\n",
    "# check how many different users are in query 'q_3'\n",
    "q_4 = data.distinct(q_3, [\"id\"])\n",
    "\n",
    "# show results of query 'q_3'\n",
    "# => since there is only one row we found the user!\")\n",
    "print(\"Result of checking different `id` in previous result\")\n",
    "display(q_4)\n",
    "\n",
    "# query: all travels of the user ('id') of query 'q_4'\n",
    "q_5 = data.query(dataset, \"id\", 175)\n",
    "\n",
    "# show results of query 'q_5'\n",
    "print(\"Complete dataset of the user with `id` 175\")\n",
    "display(q_5)\n",
    "\n",
    "# get the travels count of the user ('id') of query 'q_3' in a timeline\n",
    "q_6 = data.count(dataset, \"id\", 175)\n",
    "\n",
    "# plot esults of query 'q_6'\n",
    "timeline.plot(q_6, \"count\")\n",
    "\n",
    "# for the curious:\n",
    "# all-in-one 'plain vanilla' code equivalent as follows\n",
    "# (results are not printed on screen)\n",
    "target = dataset.query(\n",
    "    \"stop_name == 'Anne de Bretagne' & direction_id == 0\"\n",
    ").drop_duplicates(\n",
    "    subset=[\n",
    "        \"id\",\n",
    "        \"stop_name\",\n",
    "    ],\n",
    ")\n",
    "\n",
    "# END : Observe\n",
    "####################"
   ]
  },
  {
   "cell_type": "markdown",
   "metadata": {},
   "source": [
    "### Food for thoughts\n",
    "<a id='attacktargets'></a>\n",
    "\n",
    "Here below there is auxiliary information that you have on different targets. Can you re-identify them based on the available dataset? \n",
    "\n",
    "```\n",
    "####################\n",
    "# BEGIN : Answer\n",
    "```\n",
    "\n",
    "> - Target 1: *When I go to work using public transportation, I always take the bus going to the lycée Assomtpion, from the begining of the line*.\n",
    "> - Target 2: *I usually take the bus from 'Saint-Sulpice' but during holidays I stayed at my parents' home and I took the bus '217' a couple of times to go to the campus*.\n",
    "> - Target 3: *I take any bus from the RU Étoile to downtown because I live next to the 'Cimetière de l'Est' and I do not mind to walk*.\n",
    "\n",
    "```\n",
    "# END : Answer\n",
    "####################\n",
    "```\n",
    "\n",
    "Do not forget to visit the Web site of the [STAR](https://www.star.fr/accueil). Specially check the [page](https://m.star.fr/) showing the buses serving at a specific bus stop, and the [page](https://www.star.fr/accueil?tx_pnfstarod_searchdocument[action]=search&tx_pnfstarod_searchdocument[controller]=SearchLines) showing the map/schedule of the bus lines."
   ]
  },
  {
   "cell_type": "code",
   "execution_count": null,
   "metadata": {},
   "outputs": [],
   "source": [
    "####################\n",
    "# BEGIN : Code"
   ]
  },
  {
   "cell_type": "code",
   "execution_count": null,
   "metadata": {},
   "outputs": [],
   "source": [
    "# Target 1\n",
    "dataset = data.tidy_dataframe(buses_dataset)\n",
    "\n",
    "# TODO YOUR code here!"
   ]
  },
  {
   "cell_type": "code",
   "execution_count": null,
   "metadata": {},
   "outputs": [],
   "source": [
    "# Target 2\n",
    "dataset = data.tidy_dataframe(buses_dataset)\n",
    "\n",
    "# TODO YOUR code here!\n",
    "\n",
    "# NOTE: To use 'between' set the start and end dates as strings:\n",
    "#       result = between(dataset, \"2021-08-01\", \"2021-08-31\")"
   ]
  },
  {
   "cell_type": "code",
   "execution_count": null,
   "metadata": {},
   "outputs": [],
   "source": [
    "# Target 3\n",
    "dataset = data.tidy_dataframe(buses_dataset)\n",
    "\n",
    "# TODO YOUR code here!\n",
    "\n",
    "# NOTE: To test several values of an attribute at once, provide a list to query:\n",
    "#       values = [\"Tournebride\", \"Le Mail\", \"Maison d'Accueil\"]\n",
    "#       result = query(dataset, \"stop_name\", values)"
   ]
  },
  {
   "cell_type": "code",
   "execution_count": null,
   "metadata": {},
   "outputs": [],
   "source": [
    "# END : Code\n",
    "####################"
   ]
  },
  {
   "cell_type": "markdown",
   "metadata": {},
   "source": [
    "Why was this auxiliary information sufficient for enabling your attacks? Displaying the anonymity sets as done in [Step 2](#explain) can give some explainations..."
   ]
  },
  {
   "cell_type": "markdown",
   "metadata": {},
   "source": [
    "## Step 2: Explain the success of your attacks\n",
    "\n",
    "<a id=\"explain\"></a>\n",
    "\n",
    "The success of a re-identification attack depends on the identifying power of the attributes that have been used for the attack. You can display below the distribution of the [cardinalities of the anonymity sets](#aset) that indicates how much individuals are distinguishable on a given set of attributes. See the examples below and then play with anonymity sets by changing the set of attributes on which the anonymity sets are computed. \n",
    "\n",
    "Additionally, we provide in Appendix the [Shannon entropy](#shannon) of single attributes. It quantifies the _amount of information_ carried by each attribute. "
   ]
  },
  {
   "cell_type": "markdown",
   "metadata": {
    "id": "b0bECEV09vVw"
   },
   "source": [
    "### Anonymity Sets\n",
    "<a id=\"aset\"></a>\n",
    "\n",
    "Displaying the cardinalities of the anonymity sets inform about the _re-identifyiability_ of the individuals in the dataset: anonymity sets that have a cardinality equal to 1 contain a single individual, those equal to 2 contain two individuals, etc. Selecting the attributes on which you want to compute the anonymity sets and displaying the resulting cardinalities can thus help you explain the success of your attack. An attacker could also tune the attack by using the most identifying attributes. \n",
    "\n",
    "Let's see some [examples](#aset_examples) first. "
   ]
  },
  {
   "cell_type": "markdown",
   "metadata": {},
   "source": [
    "<a id=\"aset_examples\"></a>\n",
    "\n",
    "#### Examples of anonymity sets\n",
    "We now see in details some anonymity sets.\n",
    "\n",
    "1. Anomymity sets for all attributes [[link]](#aset_e1)\n",
    "2. Anomymity sets of the '`id`' attribute [[link]](#aset_e2)\n",
    "3. Anomymity sets of the '`stop_name`' attribute [[link]](#aset_e3)\n",
    "4. Anonymity sets of the '`route_short_name` and  '`direction_id`' attributes [[link]](#aset_e4)\n",
    "5. Anonymity sets of the '`departure_time` attribute [[link]](#aset_e5)<a id=\"aset_e2\"></a>\n",
    "\n",
    "Once done with the examples, [go to the questions](#asetquestions)!\n",
    "\n",
    "Want to go back to the top of the anonymity sets Section ? Click [here](#aset)."
   ]
  },
  {
   "cell_type": "markdown",
   "metadata": {},
   "source": [
    "<a id=\"aset_e1\"></a>\n",
    "\n",
    "**EXAMPLE 1.1: Anonymity set of validations for all the attributes of the dataset**\n",
    "\n",
    "This represents the number different validations (count of rows) on the whole dataset. \n",
    "\n",
    "(You may want to [go back to the top of the examples](#aset_examples) or to [go straight to the questions](#asetquestions).)"
   ]
  },
  {
   "cell_type": "code",
   "execution_count": null,
   "metadata": {},
   "outputs": [],
   "source": [
    "# get a simplified view of the dataset\n",
    "dataset = data.tidy_dataframe(buses_dataset)\n",
    "\n",
    "# get anonymity set of validations for all attributes\n",
    "anonymity_set = metrics.get_anonymity_sets(dataset)\n",
    "\n",
    "print(f\"Anonymity set of validations for all attributes\")\n",
    "plot.anonymity_sets_plot(anonymity_set)\n",
    "\n",
    "uniques = dataset.drop_duplicates()\n",
    "print(f\"Occurences of the FIRST cardinality: {uniques.shape[0]}\")\n",
    "display(uniques)"
   ]
  },
  {
   "cell_type": "markdown",
   "metadata": {},
   "source": [
    "**EXAMPLE 1.2: Anonymity set of different users for all attributes of the dataset**\n",
    "\n",
    "This represents the number of diferent users in the dataset (unique identifiers).\n",
    "\n",
    "(You may want to [go back to the top of the examples](#aset_examples) or to [go straight to the questions](#asetquestions).)"
   ]
  },
  {
   "cell_type": "code",
   "execution_count": null,
   "metadata": {},
   "outputs": [],
   "source": [
    "# get anonymity set of different uses for all attributes\n",
    "anonymity_set = metrics.get_anonymity_sets(dataset, distinct=\"id\")\n",
    "\n",
    "print(f\"Anonymity set of different users for all attributes\")\n",
    "plot.anonymity_sets_plot(anonymity_set)\n",
    "\n",
    "uniques = dataset.drop_duplicates(\"id\")\n",
    "print(f\"Occurrences of the FIRST cardinality: {uniques.shape[0]}\")\n",
    "display(uniques)"
   ]
  },
  {
   "cell_type": "markdown",
   "metadata": {},
   "source": [
    "<a id=\"aset_e2\"></a>\n",
    "\n",
    "**EXAMPLE 2.1: Anonymity set of validations for the subset `['id']`**\n",
    "\n",
    "This represents the number of _validations_ (count of rows) for the same unique identifier. \n",
    "\n",
    "(You may want to [go back to the top of the examples](#aset_examples) or to [go straight to the questions](#asetquestions).)"
   ]
  },
  {
   "cell_type": "code",
   "execution_count": null,
   "metadata": {},
   "outputs": [],
   "source": [
    "dataset = data.tidy_dataframe(buses_dataset)\n",
    "\n",
    "SUBSET = [\"id\"]\n",
    "\n",
    "anonymity_set = metrics.get_anonymity_sets(dataset, subset=SUBSET)\n",
    "print(f\"Anonymity set of validations for {SUBSET}\")\n",
    "plot.anonymity_sets_plot(anonymity_set)\n",
    "rows = (\n",
    "    dataset.groupby(SUBSET)\n",
    "    .agg({\"count\": \"count\"})\n",
    "    .sort_values(by=\"count\")\n",
    "    .reset_index()\n",
    ")\n",
    "\n",
    "result = dataset[dataset[\"id\"] == rows[\"id\"][0]]\n",
    "print(f\"Occurrences of the FIRST cardinality: {result.shape[0]}\")\n",
    "display(result)\n",
    "\n",
    "uniques = result.drop_duplicates(subset=SUBSET)\n",
    "print(\n",
    "    f\"Cardinality of the previous occurence (unique rows with the subset): {uniques.shape[0]}\"\n",
    ")\n",
    "display(uniques)"
   ]
  },
  {
   "cell_type": "markdown",
   "metadata": {},
   "source": [
    "**EXAMPLE 2.2: Anonymity set of different users for the subset `['id']`**\n",
    "\n",
    "This represents the number of different _users_ in the dataset. \n",
    "\n",
    "(You may want to [go back to the top of the examples](#aset_examples) or to [go straight to the questions](#asetquestions).)"
   ]
  },
  {
   "cell_type": "code",
   "execution_count": null,
   "metadata": {},
   "outputs": [],
   "source": [
    "anonymity_set = metrics.get_anonymity_sets(dataset, distinct=\"id\", subset=SUBSET)\n",
    "print(f\"Anonymity set of different users for {SUBSET}\")\n",
    "plot.anonymity_sets_plot(anonymity_set)\n",
    "\n",
    "uniques = dataset.drop_duplicates(subset=SUBSET)\n",
    "print(f\"Occurences of the FIRST cardinality: {uniques.shape[0]}\")\n",
    "display(uniques)"
   ]
  },
  {
   "cell_type": "markdown",
   "metadata": {},
   "source": [
    "<a id=\"aset_e3\"></a>\n",
    "\n",
    "**EXAMPLE 3.1: Anonymity sets of validations for the subset `['stop_name']`**\n",
    "\n",
    "This represents the anonymity sets of the _validations_ on the name of the bus stop. \n",
    "\n",
    "(You may want to [go back to the top of the examples](#aset_examples) or to [go straight to the questions](#asetquestions).)"
   ]
  },
  {
   "cell_type": "code",
   "execution_count": null,
   "metadata": {},
   "outputs": [],
   "source": [
    "dataset = data.tidy_dataframe(buses_dataset)\n",
    "\n",
    "SUBSET = [\"stop_name\"]\n",
    "\n",
    "anonymity_set = metrics.get_anonymity_sets(dataset, subset=SUBSET)\n",
    "print(f\"Anonymity set of validations for {SUBSET}\")\n",
    "plot.anonymity_sets_plot(anonymity_set)\n",
    "rows = (\n",
    "    dataset.groupby(SUBSET)\n",
    "    .agg({\"count\": \"count\"})\n",
    "    .sort_values(by=\"count\")\n",
    "    .reset_index()\n",
    ")\n",
    "\n",
    "result = dataset[dataset[\"stop_name\"] == rows[\"stop_name\"][0]]\n",
    "print(f\"Occurrences of the FIRST cardinality: {result.shape[0]}\")\n",
    "display(result)\n",
    "\n",
    "uniques = result.drop_duplicates(subset=SUBSET)\n",
    "print(\n",
    "    f\"Cardinality of the previous occurence (unique rows with the subset): {uniques.shape[0]}\"\n",
    ")\n",
    "display(uniques)"
   ]
  },
  {
   "cell_type": "markdown",
   "metadata": {},
   "source": [
    "**EXAMPLE 3.2: Anonymity set of different users for the subset `['stop_name']`**\n",
    "\n",
    "This represents the anonymity sets of the _users_ on the name of the bus stop. \n",
    "\n",
    "(You may want to [go back to the top of the examples](#aset_examples) or to [go straight to the questions](#asetquestions).)"
   ]
  },
  {
   "cell_type": "code",
   "execution_count": null,
   "metadata": {},
   "outputs": [],
   "source": [
    "anonymity_set = metrics.get_anonymity_sets(dataset, distinct=\"id\", subset=SUBSET)\n",
    "print(f\"Anonymity set of different users for {SUBSET}\")\n",
    "plot.anonymity_sets_plot(anonymity_set)\n",
    "rows = (\n",
    "    dataset.drop_duplicates(subset=SUBSET + [\"id\"])\n",
    "    .groupby(SUBSET + [\"id\"])\n",
    "    .agg({\"count\": \"count\"})\n",
    "    .groupby(SUBSET)\n",
    "    .count()\n",
    "    .sort_values(by=\"count\")\n",
    "    .reset_index()\n",
    ")\n",
    "\n",
    "# def flat(lista):\n",
    "#     return set(item for sublist in lista for item in sublist)\n",
    "\n",
    "# groups = (\n",
    "#     dataset.drop_duplicates(subset=SUBSET + [\"id\"])\n",
    "#     .groupby(SUBSET + [\"id\"])\n",
    "#     .aggregate(lambda x: list(x))\n",
    "#     .groupby(SUBSET)\n",
    "#     .aggregate(lambda x: flat(x))\n",
    "# )\n",
    "\n",
    "# display_dataframe(groups)\n",
    "\n",
    "cardinality = rows[rows[\"count\"] == rows[\"count\"][0]]\n",
    "print(f\"Occurrences of the FIRST cardinality: {cardinality.shape[0]}\")\n",
    "display(cardinality)\n",
    "\n",
    "# get first element's data of the cardinality\n",
    "result = dataset[dataset[\"stop_name\"] == cardinality[\"stop_name\"][0]]\n",
    "print(f\"Dataset of the FIRST occurrence\")\n",
    "display(result)\n",
    "\n",
    "uniques = result.drop_duplicates(subset=SUBSET + [\"id\"])\n",
    "print(\n",
    "    f\"Cardinality of the previous dataset (unique rows with the subset): {uniques.shape[0]}\"\n",
    ")\n",
    "display(uniques)"
   ]
  },
  {
   "cell_type": "markdown",
   "metadata": {},
   "source": [
    "<a id=\"aset_e4\"></a>\n",
    "\n",
    "**EXAMPLE 4: Anonymity set of the '`route_short_name` and  '`direction_id`' attributes** \n",
    "\n",
    "This represents the anonymity sets of the _validations_ (first) and of the _users_ (second) on the couple of attributes (name of the route, direction). \n",
    "\n",
    "(You may want to [go back to the top of the examples](#aset_examples) or to [go straight to the questions](#asetquestions).)"
   ]
  },
  {
   "cell_type": "code",
   "execution_count": null,
   "metadata": {
    "scrolled": false
   },
   "outputs": [],
   "source": [
    "dataset = data.tidy_dataframe(buses_dataset)\n",
    "SUBSET = [\n",
    "    \"route_short_name\",\n",
    "    \"direction_id\",\n",
    "]\n",
    "\n",
    "### ANONIMITY SET OF VALIDATIONS\n",
    "anonymity_set = metrics.get_anonymity_sets(dataset, subset=SUBSET)\n",
    "plot.anonymity_sets_plot(anonymity_set)\n",
    "rows = (\n",
    "    dataset.groupby(SUBSET)\n",
    "    .agg({\"count\": \"count\"})\n",
    "    .sort_values(by=\"count\")\n",
    "    .reset_index()\n",
    ")\n",
    "\n",
    "result = dataset[\n",
    "    (dataset[\"route_short_name\"] == rows[\"route_short_name\"][0])\n",
    "    & (dataset[\"direction_id\"] == rows[\"direction_id\"][0])\n",
    "]\n",
    "\n",
    "display(result)\n",
    "\n",
    "### ANONIMITY SET OF USERS\n",
    "anonymity_set = metrics.get_anonymity_sets(dataset, distinct=\"id\", subset=SUBSET)\n",
    "plot.anonymity_sets_plot(anonymity_set)\n",
    "rows = (\n",
    "    dataset.drop_duplicates(subset=SUBSET + [\"id\"])\n",
    "    .groupby(SUBSET + [\"id\"])\n",
    "    .agg({\"count\": \"count\"})\n",
    "    .groupby(SUBSET)\n",
    "    .count()\n",
    "    .sort_values(by=\"count\")\n",
    "    .reset_index()\n",
    ")\n",
    "\n",
    "# get first cardinality\n",
    "cardinality = rows[rows[\"count\"] == rows[\"count\"][0]]\n",
    "display(cardinality)\n",
    "\n",
    "# get first element's data of the cardinality\n",
    "result = dataset[\n",
    "    (dataset[\"route_short_name\"] == cardinality[\"route_short_name\"][0])\n",
    "    & (dataset[\"direction_id\"] == cardinality[\"direction_id\"][0])\n",
    "]\n",
    "\n",
    "# check that the result query correspond to the cardinality\n",
    "display(result.drop_duplicates(subset=SUBSET + [\"id\"]))"
   ]
  },
  {
   "cell_type": "markdown",
   "metadata": {},
   "source": [
    "<a id=\"aset_e5\"></a>\n",
    "\n",
    "**EXAMPLE 5: Anonymity sets of the '`departure_time`' attribute**\n",
    "\n",
    "This represents the anonymity sets of the _validations_ (first) and of the _users_ (second) on the departure time of the bus. \n",
    "\n",
    "(You may want to [go back to the top of the examples](#aset_examples) or to [go straight to the questions](#asetquestions).)"
   ]
  },
  {
   "cell_type": "code",
   "execution_count": null,
   "metadata": {},
   "outputs": [],
   "source": [
    "dataset = data.tidy_dataframe(buses_dataset)\n",
    "SUBSET = [\n",
    "    \"departure_time\",\n",
    "]\n",
    "anonymity_set = metrics.get_anonymity_sets(dataset, subset=SUBSET)\n",
    "plot.anonymity_sets_plot(anonymity_set)\n",
    "\n",
    "anonymity_set = metrics.get_anonymity_sets(dataset, distinct=\"id\", subset=SUBSET)\n",
    "plot.anonymity_sets_plot(anonymity_set)\n",
    "\n",
    "# Question: Why they are equal ? ;)"
   ]
  },
  {
   "cell_type": "markdown",
   "metadata": {},
   "source": [
    "#### Food for thought\n",
    "<a id='asetquestions'></a>\n",
    "\n",
    "```\n",
    "####################\n",
    "# BEGIN : Answer\n",
    "```\n",
    "\n",
    "> - Which set of attributes is the most identifying ? Can you find it efficiently?\n",
    "> - Would your attacks have have been more successful with other/additional information?\n",
    "\n",
    "```\n",
    "# END : Answer\n",
    "####################\n",
    "```\n",
    "\n",
    "Taking into account the buses validation dataset two kinds of anonymity sets can be computed : \n",
    "\n",
    "1. Anonymity set of validations (rows of the dataset)\n",
    "2. Anonymity set of different users (distinct user identifieres by rows)\n",
    "\n",
    "You can chose [below](#asetplay) the attributes on which you compute the anonymity sets. \n",
    "\n",
    "You may want to [go back to the examples](#aset_examples). "
   ]
  },
  {
   "cell_type": "markdown",
   "metadata": {},
   "source": [
    "<a id=\"asetplay\"></a>"
   ]
  },
  {
   "cell_type": "code",
   "execution_count": null,
   "metadata": {},
   "outputs": [],
   "source": [
    "####################\n",
    "# BEGIN : Play\n",
    "\n",
    "# (un)comment lines starting with dash ('#') to change the subset\n",
    "\n",
    "SUBSET = [\n",
    "    # \"departure_time\",\n",
    "    # \"id\",\n",
    "    # \"stop_name\",\n",
    "    # \"route_short_name\",\n",
    "    # \"stop_id\",\n",
    "    # \"direction_id\",\n",
    "]\n",
    "\n",
    "# END : Play\n",
    "####################\n",
    "\n",
    "\n",
    "# get a simplified view of the dataset\n",
    "dataset = data.tidy_dataframe(buses_dataset)\n",
    "\n",
    "### ANONIMITY SET OF VALIDATIONS\n",
    "anonymity_set = metrics.get_anonymity_sets(dataset, subset=SUBSET)\n",
    "plot.anonymity_sets_plot(anonymity_set)\n",
    "\n",
    "### ANONIMITY SET OF USERS\n",
    "anonymity_set = metrics.get_anonymity_sets(dataset, distinct=\"id\", subset=SUBSET)\n",
    "plot.anonymity_sets_plot(anonymity_set)"
   ]
  },
  {
   "cell_type": "markdown",
   "metadata": {},
   "source": [
    "## APPENDIX"
   ]
  },
  {
   "cell_type": "markdown",
   "metadata": {},
   "source": [
    "### Shannon's entropy\n",
    "<a id=\"shannon\"></a>\n",
    "\n",
    "__Food for thought__\n",
    "\n",
    "- Which attributes give the most information ?\n",
    "- Would your attacks have have been more successful with other/additional information ?"
   ]
  },
  {
   "cell_type": "code",
   "execution_count": null,
   "metadata": {},
   "outputs": [],
   "source": [
    "# get a simplified view of the dataset\n",
    "dataset = data.tidy_dataframe(buses_dataset)\n",
    "\n",
    "# show the dataset\n",
    "display(dataset)\n",
    "\n",
    "# compute the entropies of the dataset\n",
    "entropies = metrics.get_entropies(dataset, normalize=True)\n",
    "\n",
    "# show a barplot of the entropies\n",
    "plot.entropies_plot(entropies)"
   ]
  }
 ],
 "metadata": {
  "colab": {
   "collapsed_sections": [
    "NmKSCNfpfOQ-",
    "qzLkzFP3fZm-",
    "O4teYxHrfnuh",
    "-kXTLBmBfxuL",
    "ZV4MJqgogTB0",
    "F-CFufprhULZ",
    "b5Hiwx5O7gXw",
    "tawuGE-n9PTw",
    "s4gBkGhqpaL7"
   ],
   "include_colab_link": true,
   "name": "a2r2-notebook02.ipynb",
   "provenance": [],
   "toc_visible": true
  },
  "interpreter": {
   "hash": "07e8c18849bc3008fa8e563e061106758a45cf3d8ca88585245492e31e786667"
  },
  "jupytext": {
   "encoding": "# -*- coding: utf-8 -*-",
   "formats": "ipynb,py:percent"
  },
  "kernelspec": {
   "display_name": "Python 3.8.4 64-bit ('venv-a2r2': venv)",
   "name": "python3"
  },
  "language_info": {
   "codemirror_mode": {
    "name": "ipython",
    "version": 3
   },
   "file_extension": ".py",
   "mimetype": "text/x-python",
   "name": "python",
   "nbconvert_exporter": "python",
   "pygments_lexer": "ipython3",
   "version": "3.8.4"
  }
 },
 "nbformat": 4,
 "nbformat_minor": 2
}
